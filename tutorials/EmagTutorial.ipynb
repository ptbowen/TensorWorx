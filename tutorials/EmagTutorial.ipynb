{
 "cells": [
  {
   "cell_type": "markdown",
   "id": "2f46de0a-8d7b-414a-8caf-77fbb258af71",
   "metadata": {
    "tags": []
   },
   "source": [
    "# Some preliminaries...\n",
    "$\\newcommand{\\Lagr}{\\mathcal{L}}$\n",
    "$\\newcommand{\\FT}{\\mathcal{F}}$\n",
    "$\\newcommand{\\xhat}{\\hat{\\textbf{x}}}$\n",
    "$\\newcommand{\\yhat}{\\hat{\\textbf{y}}}$\n",
    "$\\newcommand{\\zhat}{\\hat{\\textbf{z}}}$\n",
    "$\\newcommand{\\ehat}{\\hat{\\textbf{e}}}$\n",
    "$\\newcommand{\\Ev}{\\textbf{E}}$\n",
    "$\\newcommand{\\Dv}{\\textbf{D}}$\n",
    "$\\newcommand{\\Bv}{\\textbf{B}}$\n",
    "$\\newcommand{\\Hv}{\\textbf{H}}$\n",
    "$\\newcommand{\\Av}{\\textbf{A}}$\n",
    "$\\newcommand{\\Iv}{\\textbf{I}}$\n",
    "$\\newcommand{\\Jv}{\\textbf{J}}$\n",
    "$\\newcommand{\\Kv}{\\textbf{K}}$\n",
    "$\\newcommand{\\Lv}{\\textbf{L}}$\n",
    "$\\newcommand{\\Pv}{\\textbf{P}}$\n",
    "$\\newcommand{\\Fv}{\\textbf{F}}$\n",
    "$\\newcommand{\\Xv}{\\textbf{X}}$\n",
    "$\\newcommand{\\Mv}{\\textbf{M}}$\n",
    "$\\newcommand{\\Nv}{\\textbf{N}}$\n",
    "$\\newcommand{\\rv}{\\textbf{r}}$\n",
    "$\\newcommand{\\kv}{\\textbf{k}}$\n",
    "$\\newcommand{\\alpham}{\\lbar{\\alpha}}$\n",
    "$\\newcommand{\\Gt}{\\textbf{G}}$\n",
    "$\\newcommand{\\sgn}{\\operatorname{sgn}}$"
   ]
  },
  {
   "cell_type": "code",
   "execution_count": 1,
   "id": "bded198f-fb1c-4b75-b14c-b71bea8194f4",
   "metadata": {},
   "outputs": [],
   "source": [
    "import sys\n",
    "sys.path.append('..')\n",
    "import worx.ElectromagneticObjects as emag\n",
    "import worx.MathObjects as math\n",
    "import worx.Geometries as geom\n",
    "import worx.PlotTools as PlotTools\n",
    "\n",
    "import numpy as np\n",
    "import matplotlib.pyplot as plt\n",
    "from numpy.lib.scimath import sqrt\n",
    "from mayavi import mlab\n",
    "\n",
    "pi=np.pi\n",
    "Z0=376\n",
    "c=2.998e8\n",
    "\n",
    "# We are going to operate in a 3D euclidean global geometry.\n",
    "(xhat,yhat,zhat)=math.CreateEuclideanBasis()\n",
    "vec_space=[xhat,yhat,zhat]"
   ]
  },
  {
   "cell_type": "markdown",
   "id": "b34c9162-90cd-4db3-998e-ac61435331cf",
   "metadata": {
    "tags": []
   },
   "source": [
    "# Rectangular waveguides and waveguide modes"
   ]
  },
  {
   "cell_type": "markdown",
   "id": "97700ebd-d054-4826-93cf-d9bda2b7e8be",
   "metadata": {},
   "source": [
    "In this section we will explore rectangular waveguides and waveguide modes.  There are two important modules in TensorWorx for performing electromagnetic computations: Geometries and ElectromagneticObjects.  The worx.Geometries module is intended to house objects which are any sort of geometry where the Green's function is analytically known.  The ElectromagneticObjects module contains other constructs like dipoles and other analytic routines.  \n",
    "\n",
    "To create a waveguide, we first define the basic parameters of the geometry, including the standard a and b parameters, the length, and the index of refraction of the material inside the waveguide."
   ]
  },
  {
   "cell_type": "code",
   "execution_count": 35,
   "id": "1c74d852-68cd-45dd-9c53-8c6c246f07d7",
   "metadata": {},
   "outputs": [
    {
     "name": "stdout",
     "output_type": "stream",
     "text": [
      "Notebook initialized with ipy backend.\n"
     ]
    },
    {
     "data": {
      "application/vnd.jupyter.widget-view+json": {
       "model_id": "df2c5157036f4b0288e6c45ad70e9714",
       "version_major": 2,
       "version_minor": 0
      },
      "text/plain": [
       "Image(value=b'\\x89PNG\\r\\n\\x1a\\n\\x00\\x00\\x00\\rIHDR\\x00\\x00\\x01\\x90\\x00\\x00\\x01^\\x08\\x02\\x00\\x00\\x00$?\\xde_\\x00\\…"
      ]
     },
     "metadata": {},
     "output_type": "display_data"
    }
   ],
   "source": [
    "L=30e-3\n",
    "a=14e-3\n",
    "b=0.762e-3\n",
    "n_wg=sqrt(3.55*(1-0.0027j))\n",
    "WG=geom.Waveguide(a,b,n_wg,L)\n",
    "\n",
    "# Plot the waveguide itself\n",
    "mlab.init_notebook()\n",
    "mlab.clf()\n",
    "WG.MayaviPlot(1,plot_fields=False)\n",
    "PlotTools.MayaviAxes(10,-L/2,L/2,-L/10,L,-L/10,L)\n",
    "mlab.figure(figure=1,bgcolor=(1,1,1), fgcolor=(0.,0.,0.))"
   ]
  },
  {
   "cell_type": "markdown",
   "id": "5c194f51-5811-46b5-b0d7-c99c633140a0",
   "metadata": {},
   "source": [
    "By default, a represents the extent of the waveguide along the x axis, b represents the extent along the y axis, and the propagation axis in z.  If we would like the waveguide to lie in the xy plane so that any complementary metamaterial elements radiate in the z direction, we can rotate the waveguide using the Rotate function by supplying it with the Euler rotation tensor we would like it to use."
   ]
  },
  {
   "cell_type": "code",
   "execution_count": 36,
   "id": "5bb61746-b1fc-4547-98ef-ed2073c9c6a8",
   "metadata": {},
   "outputs": [],
   "source": [
    "WG=geom.Waveguide(a,b,n_wg,L)\n",
    "R=math.RotTensor(pi/2,'x',vec_space)\n",
    "WG.Rotate(R)\n",
    "mlab.clf()\n",
    "WG.MayaviPlot(1,plot_fields=False)\n",
    "PlotTools.MayaviAxes(10,-L/2,L/2,-L/10,L,-L/10,L)"
   ]
  },
  {
   "cell_type": "markdown",
   "id": "73d4d805-4db9-4528-a1f8-e3cb489084ec",
   "metadata": {},
   "source": [
    "The ElectromagneticObjects module contains a routine for computing quasinormal waveguide modes, which means that are orthogonal under an unconjugated inner product.  The normalization is P0, which means that the mode with unit amplitude will represent a power of P0.  If the mode is evanescent, then this will represent the reactive power of the mode."
   ]
  },
  {
   "cell_type": "code",
   "execution_count": 37,
   "id": "19f7c329-f063-4471-a5cf-b2fa68eefbcd",
   "metadata": {},
   "outputs": [
    {
     "data": {
      "image/png": "[encoded data removed]",
      "text/plain": [
       "<Figure size 432x288 with 2 Axes>"
      ]
     },
     "metadata": {
      "needs_background": "light"
     },
     "output_type": "display_data"
    }
   ],
   "source": [
    "f0=10e9     # frequency\n",
    "P0=1        # input power\n",
    "mu=1        # mode number in x direction\n",
    "nu=0        # mode number in y direction\n",
    "Mode=emag.WaveguideMode(WG,f0,mu,nu,'TE',P0)\n",
    "\n",
    "# set up a vectorial coordinate grid\n",
    "x_axis=np.linspace(0,WG.a,100)\n",
    "y_axis=np.linspace(0,WG.b,100)\n",
    "[x,y]=np.meshgrid(x_axis,y_axis)\n",
    "z=np.zeros(x.shape)\n",
    "r=xhat*x+yhat*y+zhat*z\n",
    "\n",
    "# Plot waveguide mode\n",
    "plt.close(0)\n",
    "fig = plt.figure(0)\n",
    "plt.imshow(np.real((Mode.E[yhat])(r)), origin='lower')\n",
    "plt.colorbar()\n",
    "plt.set_cmap(\"RdYlBu\")"
   ]
  },
  {
   "cell_type": "markdown",
   "id": "392c70c0-04bc-47af-8f3d-8ae5b73ccd94",
   "metadata": {
    "jp-MarkdownHeadingCollapsed": true,
    "tags": []
   },
   "source": [
    "#  Polarizability Extraction"
   ]
  },
  {
   "cell_type": "markdown",
   "id": "45c91236-24a5-450a-9e97-1b31a16c58a3",
   "metadata": {},
   "source": [
    "In this section, we will extract the polarizability of a metamaterial element from full-wave simulations of the element in a rectangular waveguide, based on the S-parameter data.  To do this, we need both the S-parameter data, and we need to create a waveguide object with the exact same parameters as the waveguide that was simulated in full-wave.  It is assumed that the S-parameters are de-embedded to the origin of the metamaterial element, so the length of the waveguide that we create for the extraction in TensorWorx is irrelevant to the extraction, but all other parameters must be the exact same."
   ]
  },
  {
   "cell_type": "code",
   "execution_count": 38,
   "id": "15d36c96-39dd-4654-b34a-3ef89ff8fb9a",
   "metadata": {},
   "outputs": [],
   "source": [
    "# Data files for polarizability extraction\n",
    "S11MagFile='../HFSS/S11mag_MikeCell_DS_1p1.csv'\n",
    "S11PhaseFile='../HFSS/S11phase_MikeCell_DS_1p1.csv'\n",
    "S21MagFile='../HFSS/S21mag_MikeCell_DS_1p1.csv'\n",
    "S21PhaseFile='../HFSS/S21phase_MikeCell_DS_1p1.csv'\n",
    "HFSS_Files={'S11Mag':S11MagFile,'S11Phase':S11PhaseFile,\n",
    "            'S21Mag':S21MagFile,'S21Phase':S21PhaseFile}\n",
    "\n",
    "# Create a \"waveguide\" object that contains all the geometric properties of a waveguide. \n",
    "# Give it a, b, and refractive index\n",
    "L=30e-3\n",
    "a=14e-3\n",
    "b=0.762e-3\n",
    "n_wg=sqrt(3.55*(1-0.0027j))\n",
    "WG=geom.Waveguide(a,b,n_wg,L)"
   ]
  },
  {
   "cell_type": "markdown",
   "id": "66216215-f580-4a2d-b35c-649bde09b44f",
   "metadata": {},
   "source": [
    "Now we construct a dipole object in the waveguide that represents the metamaterial element to be extracted.  Initially all it needs is a position, r0, which is expressed in global coordinates.  We also add the dipole to the waveguide, which means that it will be included in scattering calculations and be plotted when we plot the waveguide."
   ]
  },
  {
   "cell_type": "code",
   "execution_count": 39,
   "id": "4ede270a-bb05-423a-8c7b-104b1508b438",
   "metadata": {},
   "outputs": [],
   "source": [
    "r0=xhat*1.6e-3+yhat*0+zhat*L/2\n",
    "dip=emag.Dipole(r0)\n",
    "WG.add_dipole(dip)"
   ]
  },
  {
   "cell_type": "markdown",
   "id": "d5d2c14d-fe81-4963-9e35-aa5a13ed8a5f",
   "metadata": {},
   "source": [
    "Let's plot the waveguide again to double check that the dipole is placed in the correct position in the waveguide.  Again, this should be in the exact same position in the waveguide as the metamaterial element was placed in the full wave simulation.  This time you'll see the dipole plotted as a small sphere."
   ]
  },
  {
   "cell_type": "code",
   "execution_count": 40,
   "id": "9ddd69e6-d5f5-4f83-b097-1f55b94585c1",
   "metadata": {},
   "outputs": [
    {
     "name": "stdout",
     "output_type": "stream",
     "text": [
      "Notebook initialized with ipy backend.\n"
     ]
    },
    {
     "data": {
      "application/vnd.jupyter.widget-view+json": {
       "model_id": "df2c5157036f4b0288e6c45ad70e9714",
       "version_major": 2,
       "version_minor": 0
      },
      "text/plain": [
       "Image(value=b'\\x89PNG\\r\\n\\x1a\\n\\x00\\x00\\x00\\rIHDR\\x00\\x00\\x01\\x90\\x00\\x00\\x01^\\x08\\x02\\x00\\x00\\x00$?\\xde_\\x00\\…"
      ]
     },
     "metadata": {},
     "output_type": "display_data"
    }
   ],
   "source": [
    "mlab.init_notebook()\n",
    "mlab.clf()\n",
    "WG.MayaviPlot(1,plot_fields=False)\n",
    "PlotTools.MayaviAxes(10,-L/2,L/2,-L/10,L,-L/10,L)\n",
    "mlab.figure(figure=1,bgcolor=(1,1,1), fgcolor=(0.,0.,0.))"
   ]
  },
  {
   "cell_type": "markdown",
   "id": "5a360539-9867-4f0e-a40f-47562c6a946d",
   "metadata": {},
   "source": [
    "Now everything is set up, so we just perform the extraction on the dipole object by running the extraction function.  The extraction function modifies the dipole object so that it contains a tuning function, which is an interpolant of the extracted polarizability as a funciton of frequency.  We can plot the extracted polarizabilites using the dip.analyze function over whatever frequency range you'd like to define."
   ]
  },
  {
   "cell_type": "code",
   "execution_count": 41,
   "id": "1c51ecc7-b883-4341-b337-47c739eaf28f",
   "metadata": {},
   "outputs": [
    {
     "data": {
      "image/png": "[encoded data removed]",
      "text/plain": [
       "<Figure size 432x288 with 2 Axes>"
      ]
     },
     "metadata": {
      "needs_background": "light"
     },
     "output_type": "display_data"
    },
    {
     "data": {
      "image/png": "[encoded data removed]",
      "text/plain": [
       "<Figure size 432x288 with 2 Axes>"
      ]
     },
     "metadata": {
      "needs_background": "light"
     },
     "output_type": "display_data"
    }
   ],
   "source": [
    "dip.extract(WG,HFSS_Files)\n",
    "f=np.linspace(9e9,11e9,100)\n",
    "dip.analyze(f)"
   ]
  },
  {
   "cell_type": "markdown",
   "id": "f8e7a5ad-cef1-424b-a5bb-25f5e520bec8",
   "metadata": {},
   "source": [
    "To assign the polarizabilities we extracted to the dipole, we use the tuning function to tune it to a particular frequency."
   ]
  },
  {
   "cell_type": "code",
   "execution_count": 42,
   "id": "d47fe2a4-f3af-435e-adfe-bb4a6843ae28",
   "metadata": {},
   "outputs": [
    {
     "name": "stdout",
     "output_type": "stream",
     "text": [
      "{hat{y}⊗hat{y}: (1.970770986387278e-08+2.1869251314575514e-09j)}\n",
      "{hat{x}⊗hat{x}: (-8.1444420192771e-08-6.877192739206061e-08j)}\n"
     ]
    }
   ],
   "source": [
    "f0=10e9\n",
    "dip.tune(f0)\n",
    "print(dip.alpha_e.components)\n",
    "print(dip.alpha_m.components)"
   ]
  },
  {
   "cell_type": "markdown",
   "id": "ef6cf543-167c-41e5-af18-2c9052a38bf3",
   "metadata": {},
   "source": [
    "We can see that the dipole object has two tensors inside it, alpha_e and alpha_m, which represent the electric and magnetic polarizabilities at the frequency at which it was tuned.  So how did TensorWorx decide what orientation to use for the electric and magnetic polarizability tensors?  Inside the dipole object, there are two additional vectors, $\\nu_m$ and $\\nu_e$ which are intended to be the eigenvectors of the polarizability tensor.  By default, it sets $\\nu_m=\\xhat$ and $\\nu_e=\\yhat$ so they correspond to the orientations that are typically the eigenvectors of the electric and magnetic polarizability tensors when a metamaterial element is placed in a waveguide with a geometry of the same orientation as the default TensorWorx waveguide geometry.  We can check to see what these vectors are by directly printing them:"
   ]
  },
  {
   "cell_type": "code",
   "execution_count": 43,
   "id": "6866a14a-1887-4fe4-a367-93ba7f94a11b",
   "metadata": {},
   "outputs": [
    {
     "name": "stdout",
     "output_type": "stream",
     "text": [
      "hat{y}\n",
      "hat{x}\n"
     ]
    }
   ],
   "source": [
    "print(dip.nu_e)\n",
    "print(dip.nu_m)"
   ]
  },
  {
   "cell_type": "markdown",
   "id": "1a374164-d55b-4b93-bf7c-34c0d7806ca3",
   "metadata": {},
   "source": [
    "So when you use the tuning function to tune the dipole using dip.tune(f0), it sets the polarizability tensors using,\n",
    "\n",
    "$\\alpha_m=t_m(f_0)\\nu_m\\otimes\\nu_m$\n",
    "\n",
    "$\\alpha_e=t_e(f_0)\\nu_e\\otimes\\nu_e$\n",
    "\n",
    "where $t_m(f)$ and $t_e(f)$ are the magnetic and electric tuning functions extracted during the polarizability extraction."
   ]
  },
  {
   "cell_type": "markdown",
   "id": "dbe1cef9-7468-4bbe-9619-2647a1742e27",
   "metadata": {
    "jp-MarkdownHeadingCollapsed": true,
    "tags": []
   },
   "source": [
    "# Placement of geometries in space"
   ]
  },
  {
   "cell_type": "markdown",
   "id": "105deb3a-c400-4c11-91ae-f68fc223b4b6",
   "metadata": {},
   "source": [
    "So far all of this was done assuming the waveguide's coordinates coincided with the global coordinate frame. A geometry might be rotated or translated using a rotation tensor and a displacement vector.  This will yield:\n",
    "\n",
    "(1) a new set of basis vectors for the local coordinate frame, and\n",
    "\n",
    "(2) a coordinate transformation from the global frome to the local frame, and vice versa.\n",
    "\n",
    "Right now the propagation axis of the waveguide is in the z-direction, since that is the default.  If our antenna is going to lie in the xy plane, then we need to rotate the waveguide by -pi/2 about the x-axis.  We will do this, but first let's make a fresh waveguide.  After that, we create a dipole and assign it to the waveguide before rotation.  This way, when we rotate the waveguide it will also rotate any dipoles assigned to it."
   ]
  },
  {
   "cell_type": "code",
   "execution_count": 44,
   "id": "e5d4d231-5cc2-49ce-ad1d-d8c67aafaa6a",
   "metadata": {},
   "outputs": [
    {
     "name": "stdout",
     "output_type": "stream",
     "text": [
      "Notebook initialized with ipy backend.\n"
     ]
    },
    {
     "data": {
      "application/vnd.jupyter.widget-view+json": {
       "model_id": "df2c5157036f4b0288e6c45ad70e9714",
       "version_major": 2,
       "version_minor": 0
      },
      "text/plain": [
       "Image(value=b'\\x89PNG\\r\\n\\x1a\\n\\x00\\x00\\x00\\rIHDR\\x00\\x00\\x01\\x90\\x00\\x00\\x01^\\x08\\x02\\x00\\x00\\x00$?\\xde_\\x00\\…"
      ]
     },
     "metadata": {},
     "output_type": "display_data"
    }
   ],
   "source": [
    "L=30e-3\n",
    "a=14e-3\n",
    "b=0.762e-3\n",
    "n_wg=sqrt(3.55*(1-0.0027j))\n",
    "WG=geom.Waveguide(a,b,n_wg,L)\n",
    "\n",
    "r0=xhat*1.6e-3+yhat*0+zhat*L/2\n",
    "dip=emag.Dipole(r0)\n",
    "dip.extract(WG,HFSS_Files)\n",
    "dip.tune(f0)\n",
    "WG.add_dipole(dip)\n",
    "\n",
    "# Now, rotate\n",
    "R=math.RotTensor(pi/2,'x',vec_space)\n",
    "WG.Rotate(R)\n",
    "dip.tune(f0)    # This updates the polarizabilities of the dipole after the rotation.\n",
    "                     \n",
    "mlab.init_notebook()\n",
    "mlab.clf()\n",
    "WG.MayaviPlot(1,plot_fields=False)\n",
    "PlotTools.MayaviAxes(10,-L/2,L/2,-L/10,L,-L/10,L)\n",
    "mlab.figure(figure=1,bgcolor=(1,1,1), fgcolor=(0.,0.,0.))"
   ]
  },
  {
   "cell_type": "code",
   "execution_count": 45,
   "id": "7498c379-3038-4e37-8eb7-72283062c564",
   "metadata": {},
   "outputs": [
    {
     "name": "stdout",
     "output_type": "stream",
     "text": [
      "{hat{x}: 0.0016, hat{y}: 0.0, hat{z}: 0.015}\n",
      "{hat{y}⊗hat{y}: (7.389207665551197e-41+8.199655899631329e-42j), hat{z}⊗hat{y}: (-1.206749190165826e-24-1.3391054311071975e-25j), hat{y}⊗hat{z}: (-1.206749190165826e-24-1.3391054311071975e-25j), hat{z}⊗hat{z}: (1.970770986387278e-08+2.1869251314575514e-09j)}\n",
      "{hat{x}⊗hat{x}: (-8.1444420192771e-08-6.877192739206061e-08j)}\n"
     ]
    }
   ],
   "source": [
    "# We can access the dipole's location in the local waveguide coordinates using the\n",
    "# waveguide's built-in coordinate transformation.\n",
    "print(WG.GlobalToLocal(dip.r0).components)\n",
    "\n",
    "# And now that the waveguide has been rotated, let's check that the orientations of the new dipole polarizability \n",
    "# tensors make sense.\n",
    "print(dip.alpha_e.components)\n",
    "print(dip.alpha_m.components)"
   ]
  },
  {
   "cell_type": "markdown",
   "id": "49f400d9-1f2b-4778-b7da-7b6f118f246a",
   "metadata": {
    "jp-MarkdownHeadingCollapsed": true,
    "tags": []
   },
   "source": [
    "# Your first simulation"
   ]
  },
  {
   "cell_type": "markdown",
   "id": "efd3b2cb-a7af-452d-83cf-9f308df848b7",
   "metadata": {},
   "source": [
    "In the last section we set up a waveguide with a single dipole and assigned it a particular set of polarizability tensors that are based on values extracted from an HFSS simulation.  Now let's use that to run our first forward model using TensorWorx.\n",
    "\n",
    "While a simulation may involve many geometries that may be coupled together, there needs to be at least one source\n",
    "in at least one geometry.  A source defines an incident field in the geometry that excites the dipoles (which may\n",
    "or may not be modeled as coupled together via DDA).  The TensorWorx rectangular waveguide geometry has a source function that can support many different source types, but the default is just the fundamental waveguide mode.  We create a source at frequency f0 and with amplitude 1."
   ]
  },
  {
   "cell_type": "code",
   "execution_count": 46,
   "id": "e91dd05a-5221-47a9-a828-9021c8dc1f49",
   "metadata": {},
   "outputs": [],
   "source": [
    "WG.Source(f0,amp=1)"
   ]
  },
  {
   "cell_type": "markdown",
   "id": "a0c585a0-178c-4b15-b6b1-dc5e19a4b611",
   "metadata": {},
   "source": [
    "Running the compute command on the geometry computes the total field in the waveguide and evaluates the dipole moments of any dipoles inside the waveguide.  The compute command also has additional options and different kinds of solvers, but for the moment let's keep the default."
   ]
  },
  {
   "cell_type": "code",
   "execution_count": 47,
   "id": "3624c122-021c-4918-b8ca-a2b821bae1fb",
   "metadata": {},
   "outputs": [
    {
     "name": "stdout",
     "output_type": "stream",
     "text": [
      "Notebook initialized with ipy backend.\n"
     ]
    },
    {
     "data": {
      "application/vnd.jupyter.widget-view+json": {
       "model_id": "df2c5157036f4b0288e6c45ad70e9714",
       "version_major": 2,
       "version_minor": 0
      },
      "text/plain": [
       "Image(value=b'\\x89PNG\\r\\n\\x1a\\n\\x00\\x00\\x00\\rIHDR\\x00\\x00\\x01\\x90\\x00\\x00\\x01^\\x08\\x02\\x00\\x00\\x00$?\\xde_\\x00\\…"
      ]
     },
     "metadata": {},
     "output_type": "display_data"
    }
   ],
   "source": [
    "WG.Compute(f0)\n",
    "\n",
    "# Plot, including fields this time\n",
    "mlab.init_notebook()\n",
    "mlab.clf()\n",
    "WG.MayaviPlot(1,plot_fields=True)\n",
    "PlotTools.MayaviAxes(10,-L/2,L/2,0,L,-L/10,L/2)\n",
    "mlab.figure(figure=1,bgcolor=(1,1,1), fgcolor=(0.,0.,0.))"
   ]
  },
  {
   "cell_type": "markdown",
   "id": "fe94fff7-46d2-4bc8-aaba-d26df67e8a1f",
   "metadata": {
    "tags": []
   },
   "source": [
    "# Far-Field calculations"
   ]
  },
  {
   "cell_type": "markdown",
   "id": "da9f2e22-c637-45ac-8a98-1585045a8570",
   "metadata": {},
   "source": [
    "In order to calculate far fields and radiated powers, we need to create a half space geometry, and we need to add the dipole to the half space.  Dipoles that are complimentary metamaterial elements belong naturally to two geometries simultaneously: the waveguide and the half space above the waveguide."
   ]
  },
  {
   "cell_type": "code",
   "execution_count": 48,
   "id": "5c56109d-cbdc-4390-8ed0-a0f34e9d0a28",
   "metadata": {},
   "outputs": [],
   "source": [
    "HS=geom.HalfSpace()\n",
    "HS.add_dipole(dip)"
   ]
  },
  {
   "cell_type": "markdown",
   "id": "1d78c62e-4218-4b77-9ad8-21a8f43ce2f3",
   "metadata": {},
   "source": [
    "In this study we are going to plot monitor the dipole moments and the radiated power as a function of frequency, so just allocate memory for these quantities.  Then we loop over frequency and run the same commands as before, but now we have to solve in the half-space as well as in the waveguide by running the ComputFarField command on the half space.  Note that this needs to be done after solving the waveguide, because the waveguide solver updates the dipole moments of all dipoles attached to the waveguide, which the far-field solver needs to find the far-field in the half space."
   ]
  },
  {
   "cell_type": "code",
   "execution_count": 49,
   "id": "374fa396-87b8-4807-9c55-04e3fb56847b",
   "metadata": {},
   "outputs": [],
   "source": [
    "Pz=np.zeros(np.shape(f),dtype=complex)\n",
    "Mx=np.zeros(np.shape(f),dtype=complex)\n",
    "Prad=np.zeros(np.shape(f))"
   ]
  },
  {
   "cell_type": "code",
   "execution_count": 50,
   "id": "65e4343a-7d48-468c-89b4-d05a3fc69992",
   "metadata": {},
   "outputs": [
    {
     "data": {
      "image/png": "[encoded data removed]",
      "text/plain": [
       "<Figure size 432x288 with 1 Axes>"
      ]
     },
     "metadata": {
      "needs_background": "light"
     },
     "output_type": "display_data"
    },
    {
     "data": {
      "image/png": "[encoded data removed]",
      "text/plain": [
       "<Figure size 432x288 with 1 Axes>"
      ]
     },
     "metadata": {
      "needs_background": "light"
     },
     "output_type": "display_data"
    }
   ],
   "source": [
    "for i, f0 in enumerate(f):\n",
    "    \n",
    "    # Update polarizability tensor\n",
    "    dip.tune(f0)\n",
    "    \n",
    "    # Update the waveguide source for this frequency.  \n",
    "    WG.Source(f0)\n",
    "    \n",
    "    # The compute function will excite dipole with the input emag vector field.\n",
    "    # The default solver is unperturbed feed wave approximation.\n",
    "    WG.Compute(f0)\n",
    "    \n",
    "    # Compute the far field in the half space geometry.\n",
    "    HS.ComputeFarField(f0)\n",
    "    \n",
    "    # Collect the data we are monitoring.\n",
    "    Pz[i]=dip.P[zhat]\n",
    "    Mx[i]=dip.M[xhat]\n",
    "    Prad[i]=HS.FarField.Prad\n",
    "\n",
    "    \n",
    "\n",
    "# Plot dipole moments\n",
    "plt.close(0)\n",
    "plt.figure(0)\n",
    "plt.plot(f/1e9,np.abs(Z0*Mx),f/1e9,np.abs(Pz))\n",
    "plt.grid()\n",
    "\n",
    "# Plot radiation efficiency\n",
    "plt.close(1)\n",
    "plt.figure(1)\n",
    "plt.plot(f/1e9,Prad)\n",
    "plt.grid()"
   ]
  },
  {
   "cell_type": "markdown",
   "id": "8e14df46-7889-49f5-91ca-29e032e45108",
   "metadata": {
    "tags": []
   },
   "source": [
    "# Waveguide with dipole array"
   ]
  },
  {
   "cell_type": "markdown",
   "id": "1c7a9281-6319-4ea7-ab63-2fab1ec538a3",
   "metadata": {},
   "source": [
    "In this section we model a waveguide with an array of complementary metamaterial elements.  All the elements will be tuned to the same state, so it will effectively be a kind of grating, and we expect the far-field pattern to produce grating lobes (provided that they are spaced more than half a wavelength in terms of the guided mode's wavelength).\n",
    "\n",
    "All of the functions used here have been shown previously, except for the Array function in the dipole object.  That function takes a list of vectors and returns a list of dipoles where every dipole is a duplicate of the original dipole and placed at the corresponding location in the list of vectors."
   ]
  },
  {
   "cell_type": "code",
   "execution_count": 54,
   "id": "2ecd6dc1-ba4d-4cf5-83c3-6d8a992e8b58",
   "metadata": {},
   "outputs": [
    {
     "name": "stdout",
     "output_type": "stream",
     "text": [
      "Notebook initialized with ipy backend.\n"
     ]
    },
    {
     "data": {
      "application/vnd.jupyter.widget-view+json": {
       "model_id": "df2c5157036f4b0288e6c45ad70e9714",
       "version_major": 2,
       "version_minor": 0
      },
      "text/plain": [
       "Image(value=b'\\x89PNG\\r\\n\\x1a\\n\\x00\\x00\\x00\\rIHDR\\x00\\x00\\x01\\x90\\x00\\x00\\x01^\\x08\\x02\\x00\\x00\\x00$?\\xde_\\x00\\…"
      ]
     },
     "metadata": {},
     "output_type": "display_data"
    }
   ],
   "source": [
    "f0=9.85e9\n",
    "lmbda=c/f0\n",
    "\n",
    "# Creating the waveguide\n",
    "pitch=lmbda\n",
    "N=30\n",
    "L=pitch*N\n",
    "a=14e-3\n",
    "b=0.762e-3\n",
    "n_wg=sqrt(3.55*(1-0.0027j))\n",
    "WG=geom.Waveguide(a,b,n_wg,L)\n",
    "HS=geom.HalfSpace()\n",
    "\n",
    "# Create an initial dipole\n",
    "r0=xhat*1.6e-3+yhat*0+zhat*L/2\n",
    "dip=emag.Dipole(r0)\n",
    "dip.extract(WG,HFSS_Files)\n",
    "\n",
    "# Create dipole array\n",
    "z_pos=np.arange(pitch/2,(N+1/2)*pitch,pitch)\n",
    "x_pos=np.ones(np.shape(z_pos))*1.6e-3\n",
    "y_pos=np.zeros(np.shape(z_pos))\n",
    "r_pos=math.GridToListOfVectors({xhat:x_pos,yhat:y_pos,zhat:z_pos})\n",
    "dip_array=dip.Array(r_pos)\n",
    "\n",
    "# Add all the dipoles to the waveguide.\n",
    "for dipole in dip_array:\n",
    "    WG.add_dipole(dipole)\n",
    "    HS.add_dipole(dipole)\n",
    "\n",
    "# Now, position it where you want it in space\n",
    "R=math.RotTensor(pi/2,'x',vec_space)\n",
    "WG.Rotate(R)\n",
    "\n",
    "# Once everything is in position, tune the dipoles to ensure they all have the right\n",
    "# polarizability tensors.\n",
    "for dipole in dip_array: dipole.tune(f0)\n",
    "\n",
    "# Add a source\n",
    "WG.Source(f0)\n",
    "\n",
    "# Compute\n",
    "WG.Compute(f0)\n",
    "HS.ComputeFarField(f0)\n",
    "\n",
    "# Plot waveguide, and dipoles with near field\n",
    "mlab.init_notebook()\n",
    "mlab.clf()\n",
    "WG.MayaviPlot(1,plot_fields=True)\n",
    "PlotTools.MayaviAxes(10,-L/2,L/2,0,L,-L/10,L/2)\n",
    "mlab.figure(figure=1,bgcolor=(1,1,1), fgcolor=(0.,0.,0.))"
   ]
  },
  {
   "cell_type": "markdown",
   "id": "baff22df-e061-4fc4-84d9-ee5a3c48f53b",
   "metadata": {},
   "source": [
    "Once the ComputeFarField function in the half-space object has computed the far-field, it can be accessed in the FarField structure inside the half-space object.  That object also contains other fields and a handy definition of the k-vector.  These can be used to quickly plot the far-field pattern."
   ]
  },
  {
   "cell_type": "code",
   "execution_count": 57,
   "id": "cf253265-774b-4234-a3a1-76864ddbb549",
   "metadata": {},
   "outputs": [
    {
     "name": "stdout",
     "output_type": "stream",
     "text": [
      "Notebook initialized with ipy backend.\n"
     ]
    },
    {
     "data": {
      "application/vnd.jupyter.widget-view+json": {
       "model_id": "685cf2ddaa3241c08cb685319672c9d9",
       "version_major": 2,
       "version_minor": 0
      },
      "text/plain": [
       "Image(value=b'\\x89PNG\\r\\n\\x1a\\n\\x00\\x00\\x00\\rIHDR\\x00\\x00\\x01\\x90\\x00\\x00\\x01^\\x08\\x02\\x00\\x00\\x00$?\\xde_\\x00\\…"
      ]
     },
     "metadata": {},
     "output_type": "display_data"
    }
   ],
   "source": [
    "directivity=HS.FarField.directivity\n",
    "\n",
    "# This returns the k-vector as a function of theta and phi\n",
    "k=HS.FarField.k\n",
    "\n",
    "# create a grid for plotting\n",
    "(theta_grid,phi_grid,th_axis,ph_axis,dth,dph)=math.HalfSphereGrid(360,90)\n",
    "\n",
    "# Compute directivity in dB.  This step is where all the computation really happens, since\n",
    "# the fields defined by the graph of nested function operations are finally executed on a set \n",
    "# of grid points.\n",
    "Dir_dB=10*np.log10(np.real(directivity(k(theta_grid,phi_grid)))+1e-16) \n",
    "Dir_dB[Dir_dB<0]=0\n",
    "\n",
    "# This is the standard routine for plotting 3D far fields.\n",
    "rhat=math.SphericalBasis('r')\n",
    "X=Dir_dB*(rhat.dot(xhat))(theta_grid,phi_grid)\n",
    "Y=Dir_dB*(rhat.dot(yhat))(theta_grid,phi_grid)\n",
    "Z=Dir_dB*(rhat.dot(zhat))(theta_grid,phi_grid)\n",
    "mlab.init_notebook()\n",
    "mlab.clf()\n",
    "mlab.mesh(X,Y,Z)\n",
    "coordmax=np.max([X,Y,Z])\n",
    "PlotTools.MayaviAxes(10,-coordmax,coordmax,-coordmax,coordmax,0,coordmax)\n",
    "mlab.figure(figure=2,bgcolor=(1,1,1), fgcolor=(0.,0.,0.))"
   ]
  },
  {
   "cell_type": "markdown",
   "id": "71c003a0-ad8b-4b58-9278-4541958006ae",
   "metadata": {},
   "source": [
    "The far-field pattern should show two narrow grating lobes that are fan-beams."
   ]
  },
  {
   "cell_type": "code",
   "execution_count": null,
   "id": "799238c8-0adb-461f-a192-d862942685cc",
   "metadata": {},
   "outputs": [],
   "source": []
  }
 ],
 "metadata": {
  "kernelspec": {
   "display_name": "Python 3 (ipykernel)",
   "language": "python",
   "name": "python3"
  },
  "language_info": {
   "codemirror_mode": {
    "name": "ipython",
    "version": 3
   },
   "file_extension": ".py",
   "mimetype": "text/x-python",
   "name": "python",
   "nbconvert_exporter": "python",
   "pygments_lexer": "ipython3",
   "version": "3.8.12"
  }
 },
 "nbformat": 4,
 "nbformat_minor": 5
}
