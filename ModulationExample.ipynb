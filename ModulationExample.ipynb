{
 "cells": [
  {
   "cell_type": "code",
   "execution_count": 7,
   "id": "5bb1f942-d749-4322-9ee1-f9cc2fb789ca",
   "metadata": {},
   "outputs": [],
   "source": [
    "#!/usr/bin/env python3\n",
    "# -*- coding: utf-8 -*-\n",
    "\"\"\"\n",
    "Created on Wed Oct  6 17:15:09 2021\n",
    "\n",
    "@author: ptbowen\n",
    "\"\"\"\n",
    "import worx.ElectromagneticObjects as emag\n",
    "import worx.MathObjects as math\n",
    "import worx.Geometries as geom\n",
    "import worx.PlotTools as PlotTools\n",
    "from worx.Extraction import WaveguideExtraction\n",
    "\n",
    "import numpy as np\n",
    "import matplotlib.pyplot as plt\n",
    "from numpy.lib.scimath import sqrt\n",
    "from matplotlib import cm\n",
    "from mayavi import mlab\n",
    "\n",
    "# constants\n",
    "pi=np.pi\n",
    "Z0=376\n",
    "c=2.998e8\n",
    "\n",
    "# We are going to operate in a 3D euclidean global geometry.\n",
    "(xhat,yhat,zhat)=math.CreateEuclideanBasis()\n",
    "vec_space=[xhat,yhat,zhat]\n",
    "\n",
    "# some preliminary variables\n",
    "f0=np.array(9.85e9)\n",
    "lmbda=c/f0\n",
    "k0=2*pi/lmbda\n",
    "\n"
   ]
  },
  {
   "cell_type": "code",
   "execution_count": 8,
   "id": "b6493334-55b9-4c33-9738-cf56d43d3e2b",
   "metadata": {},
   "outputs": [],
   "source": [
    "# With the preliminaries out of the way, this tutorial walks through creating a single\n",
    "# linear waveguide with an array of elements, modulating it, and finding the radiated\n",
    "# power in an unperturbed feed wave approximation.\n",
    "\n",
    "# Waveguide design\n",
    "N=21\n",
    "pitch=lmbda/5.5\n",
    "L=(N+1)*pitch\n",
    "a=14e-3\n",
    "b=0.762e-3\n",
    "n_wg=sqrt(3.55*(1-0.0027j))\n",
    "WG=geom.Waveguide(a,b,n_wg,L)\n",
    "WG.N_modes=4\n",
    "HS=geom.HalfSpace()\n"
   ]
  },
  {
   "cell_type": "code",
   "execution_count": 13,
   "id": "b890ef0f-ab3b-4136-81d1-7b97ff2a9ce7",
   "metadata": {},
   "outputs": [],
   "source": [
    "# Individual dipole design\n",
    "dip1=emag.Dipole(xhat*0)\n",
    "# Tuning ranges for polarizabilities will always be presented as functions, whether\n",
    "# they are interpolants or analytic.  Let's start with an analytic expression for\n",
    "# a tunable Lorentzian dipole.\n",
    "alpha0=(18e-3)**3           # polarizability amplitude\n",
    "Q=40                        # Quality factor\n",
    "m=np.linspace(0,1,100)      # Lorentzian modulation parameter \n",
    "alpha=(lambda f, m: (alpha0*Q)*np.sin(m*pi)*np.exp(-1j*m*pi))\n",
    "dip1.TuningFunction_m=alpha\n",
    "dip1.nu_m=xhat\n",
    "dip1.Parameterized=1\n"
   ]
  },
  {
   "cell_type": "code",
   "execution_count": 14,
   "id": "bd1f49cb-ae52-4445-a109-52c7e42e9021",
   "metadata": {},
   "outputs": [],
   "source": [
    "# Dipole array design\n",
    "z_pos=np.arange(pitch/2,(N+1/2)*pitch,pitch)\n",
    "x_pos=np.ones(np.shape(z_pos))*1.6e-3\n",
    "y_pos=np.zeros(np.shape(z_pos))\n",
    "r_pos=math.GridToListOfVectors({xhat:x_pos,yhat:y_pos,zhat:z_pos})\n",
    "dip_array=dip1.Array(r_pos)\n",
    "for dipole in dip_array:\n",
    "    WG.add_dipole(dipole)\n",
    "    HS.add_dipole(dipole)"
   ]
  },
  {
   "cell_type": "code",
   "execution_count": 15,
   "id": "20280e08-a797-4778-abf8-f5006e299d9a",
   "metadata": {},
   "outputs": [],
   "source": [
    "# Now, position it where you want it in space\n",
    "R=math.RotTensor(-pi/2,'x',vec_space)\n",
    "WG.Rotate(R)"
   ]
  },
  {
   "cell_type": "code",
   "execution_count": 16,
   "id": "7278bc48-8b94-42dd-a328-e797da831e2a",
   "metadata": {},
   "outputs": [
    {
     "ename": "TypeError",
     "evalue": "<lambda>() takes 1 positional argument but 2 were given",
     "output_type": "error",
     "traceback": [
      "\u001b[0;31m---------------------------------------------------------------------------\u001b[0m",
      "\u001b[0;31mTypeError\u001b[0m                                 Traceback (most recent call last)",
      "\u001b[0;32m/var/folders/9x/nsc3jwt53p980zxb9scdwcyc0000gn/T/ipykernel_72949/576579431.py\u001b[0m in \u001b[0;36m<module>\u001b[0;34m\u001b[0m\n\u001b[1;32m     14\u001b[0m \u001b[0;31m#%%\u001b[0m\u001b[0;34m\u001b[0m\u001b[0;34m\u001b[0m\u001b[0;34m\u001b[0m\u001b[0m\n\u001b[1;32m     15\u001b[0m \u001b[0;31m# Modulate\u001b[0m\u001b[0;34m\u001b[0m\u001b[0;34m\u001b[0m\u001b[0;34m\u001b[0m\u001b[0m\n\u001b[0;32m---> 16\u001b[0;31m \u001b[0mWG\u001b[0m\u001b[0;34m.\u001b[0m\u001b[0mModulate\u001b[0m\u001b[0;34m(\u001b[0m\u001b[0mk_b\u001b[0m\u001b[0;34m,\u001b[0m\u001b[0mE_b\u001b[0m\u001b[0;34m,\u001b[0m\u001b[0;32mFalse\u001b[0m\u001b[0;34m)\u001b[0m\u001b[0;34m\u001b[0m\u001b[0;34m\u001b[0m\u001b[0m\n\u001b[0m",
      "\u001b[0;32m~/GitHub/TensorWorx0/worx/Geometries.py\u001b[0m in \u001b[0;36mModulate\u001b[0;34m(self, k_b, E_b, plot)\u001b[0m\n\u001b[1;32m    311\u001b[0m \u001b[0;34m\u001b[0m\u001b[0m\n\u001b[1;32m    312\u001b[0m             \u001b[0;31m# tune dipole\u001b[0m\u001b[0;34m\u001b[0m\u001b[0;34m\u001b[0m\u001b[0;34m\u001b[0m\u001b[0m\n\u001b[0;32m--> 313\u001b[0;31m             \u001b[0mdip\u001b[0m\u001b[0;34m.\u001b[0m\u001b[0mtune\u001b[0m\u001b[0;34m(\u001b[0m\u001b[0mf\u001b[0m\u001b[0;34m,\u001b[0m\u001b[0mm\u001b[0m\u001b[0;34m)\u001b[0m\u001b[0;34m\u001b[0m\u001b[0;34m\u001b[0m\u001b[0m\n\u001b[0m\u001b[1;32m    314\u001b[0m \u001b[0;34m\u001b[0m\u001b[0m\n\u001b[1;32m    315\u001b[0m             \u001b[0;31m# Record polarizabiliites\u001b[0m\u001b[0;34m\u001b[0m\u001b[0;34m\u001b[0m\u001b[0;34m\u001b[0m\u001b[0m\n",
      "\u001b[0;32m~/GitHub/TensorWorx0/worx/ElectromagneticObjects.py\u001b[0m in \u001b[0;36mtune\u001b[0;34m(self, *args)\u001b[0m\n\u001b[1;32m     89\u001b[0m \u001b[0;34m\u001b[0m\u001b[0m\n\u001b[1;32m     90\u001b[0m     \u001b[0;32mdef\u001b[0m \u001b[0mtune\u001b[0m\u001b[0;34m(\u001b[0m\u001b[0mself\u001b[0m\u001b[0;34m,\u001b[0m\u001b[0;34m*\u001b[0m\u001b[0margs\u001b[0m\u001b[0;34m)\u001b[0m\u001b[0;34m:\u001b[0m\u001b[0;34m\u001b[0m\u001b[0;34m\u001b[0m\u001b[0m\n\u001b[0;32m---> 91\u001b[0;31m         \u001b[0mself\u001b[0m\u001b[0;34m.\u001b[0m\u001b[0malpha_e\u001b[0m\u001b[0;34m=\u001b[0m\u001b[0mself\u001b[0m\u001b[0;34m.\u001b[0m\u001b[0mnu_e\u001b[0m\u001b[0;34m.\u001b[0m\u001b[0mtensor_prod\u001b[0m\u001b[0;34m(\u001b[0m\u001b[0mself\u001b[0m\u001b[0;34m.\u001b[0m\u001b[0mnu_e\u001b[0m\u001b[0;34m)\u001b[0m\u001b[0;34m*\u001b[0m\u001b[0mself\u001b[0m\u001b[0;34m.\u001b[0m\u001b[0mTuningFunction_e\u001b[0m\u001b[0;34m(\u001b[0m\u001b[0;34m*\u001b[0m\u001b[0margs\u001b[0m\u001b[0;34m)\u001b[0m\u001b[0;34m\u001b[0m\u001b[0;34m\u001b[0m\u001b[0m\n\u001b[0m\u001b[1;32m     92\u001b[0m         \u001b[0mself\u001b[0m\u001b[0;34m.\u001b[0m\u001b[0malpha_m\u001b[0m\u001b[0;34m=\u001b[0m\u001b[0mself\u001b[0m\u001b[0;34m.\u001b[0m\u001b[0mnu_m\u001b[0m\u001b[0;34m.\u001b[0m\u001b[0mtensor_prod\u001b[0m\u001b[0;34m(\u001b[0m\u001b[0mself\u001b[0m\u001b[0;34m.\u001b[0m\u001b[0mnu_m\u001b[0m\u001b[0;34m)\u001b[0m\u001b[0;34m*\u001b[0m\u001b[0mself\u001b[0m\u001b[0;34m.\u001b[0m\u001b[0mTuningFunction_m\u001b[0m\u001b[0;34m(\u001b[0m\u001b[0;34m*\u001b[0m\u001b[0margs\u001b[0m\u001b[0;34m)\u001b[0m\u001b[0;34m\u001b[0m\u001b[0;34m\u001b[0m\u001b[0m\n\u001b[1;32m     93\u001b[0m \u001b[0;34m\u001b[0m\u001b[0m\n",
      "\u001b[0;32m~/GitHub/TensorWorx0/worx/MathObjects.py\u001b[0m in \u001b[0;36m__call__\u001b[0;34m(self, *args)\u001b[0m\n\u001b[1;32m    594\u001b[0m \u001b[0;34m\u001b[0m\u001b[0m\n\u001b[1;32m    595\u001b[0m     \u001b[0;32mdef\u001b[0m \u001b[0m__call__\u001b[0m\u001b[0;34m(\u001b[0m\u001b[0mself\u001b[0m\u001b[0;34m,\u001b[0m\u001b[0;34m*\u001b[0m\u001b[0margs\u001b[0m\u001b[0;34m)\u001b[0m\u001b[0;34m:\u001b[0m\u001b[0;34m\u001b[0m\u001b[0;34m\u001b[0m\u001b[0m\n\u001b[0;32m--> 596\u001b[0;31m         \u001b[0;32mreturn\u001b[0m \u001b[0mself\u001b[0m\u001b[0;34m.\u001b[0m\u001b[0mf\u001b[0m\u001b[0;34m(\u001b[0m\u001b[0;34m*\u001b[0m\u001b[0margs\u001b[0m\u001b[0;34m)\u001b[0m\u001b[0;34m\u001b[0m\u001b[0;34m\u001b[0m\u001b[0m\n\u001b[0m\u001b[1;32m    597\u001b[0m \u001b[0;34m\u001b[0m\u001b[0m\n\u001b[1;32m    598\u001b[0m     \u001b[0;32mdef\u001b[0m \u001b[0m__add__\u001b[0m\u001b[0;34m(\u001b[0m\u001b[0mself\u001b[0m\u001b[0;34m,\u001b[0m\u001b[0mother\u001b[0m\u001b[0;34m)\u001b[0m\u001b[0;34m:\u001b[0m\u001b[0;34m\u001b[0m\u001b[0;34m\u001b[0m\u001b[0m\n",
      "\u001b[0;31mTypeError\u001b[0m: <lambda>() takes 1 positional argument but 2 were given"
     ]
    }
   ],
   "source": [
    "# Define a source\n",
    "dip=emag.Dipole(dip_array[10].r0)\n",
    "dip.M=xhat*2\n",
    "WG.Source(f0,source_type='dipole',dip=dip)\n",
    "\n",
    "# Desired beam k-vector\n",
    "theta_b=0\n",
    "phi_b=0\n",
    "rhat=math.SphericalBasis('r')\n",
    "k_b=rhat(theta_b,phi_b)*k0\n",
    "\n",
    "# Desired beam polarization vector\n",
    "E_b=(math.SphericalBasis('phi'))(theta_b,phi_b)\n",
    "#%%\n",
    "# Modulate\n",
    "WG.Modulate(k_b,E_b,False)\n"
   ]
  },
  {
   "cell_type": "code",
   "execution_count": null,
   "id": "42f54223-b0b3-48a3-8be7-b556ca4b1e67",
   "metadata": {},
   "outputs": [],
   "source": [
    "# Compute to excite dipoles with source\n",
    "WG.Compute(f0)\n",
    "HS.ComputeFarField(f0)"
   ]
  }
 ],
 "metadata": {
  "kernelspec": {
   "display_name": "Python 3 (ipykernel)",
   "language": "python",
   "name": "python3"
  },
  "language_info": {
   "codemirror_mode": {
    "name": "ipython",
    "version": 3
   },
   "file_extension": ".py",
   "mimetype": "text/x-python",
   "name": "python",
   "nbconvert_exporter": "python",
   "pygments_lexer": "ipython3",
   "version": "3.8.12"
  }
 },
 "nbformat": 4,
 "nbformat_minor": 5
}
