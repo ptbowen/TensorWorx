{
 "cells": [
  {
   "cell_type": "markdown",
   "id": "bc885612-5e3e-48ec-99e7-8461fa0668e5",
   "metadata": {},
   "source": [
    "# Preliminaries"
   ]
  },
  {
   "cell_type": "code",
   "execution_count": 7,
   "id": "8807be95-35bd-49aa-a0b2-9ba8efd03c81",
   "metadata": {},
   "outputs": [],
   "source": [
    "#!/usr/bin/env python3\n",
    "# -*- coding: utf-8 -*-\n",
    "\"\"\"\n",
    "Created on Fri Oct  8 22:29:59 2021\n",
    "\n",
    "@author: ptbowen\n",
    "\"\"\"\n",
    "import sys\n",
    "sys.path.append('..')\n",
    "import worx.ElectromagneticObjects as emag\n",
    "import worx.MathObjects as math\n",
    "import worx.Geometries as geom\n",
    "import worx.PlotTools as PlotTools\n",
    "import worx.HFSS_IO as HFSS_IO\n",
    "\n",
    "import numpy as np\n",
    "import matplotlib.pyplot as plt\n",
    "from numpy.lib.scimath import sqrt\n",
    "from mayavi import mlab\n",
    "\n",
    "\n",
    "# constants\n",
    "pi=np.pi\n",
    "Z0=376\n",
    "c=2.998e8\n",
    "\n",
    "# We are going to operate in a 3D euclidean global geometry.\n",
    "(xhat,yhat,zhat)=math.CreateEuclideanBasis()\n",
    "vec_space=[xhat,yhat,zhat]"
   ]
  },
  {
   "cell_type": "markdown",
   "id": "3f0b2f13-dd5c-4ec9-8c9c-d5c342ead6c3",
   "metadata": {},
   "source": [
    "# Creation of a single waveguide with a dipole array"
   ]
  },
  {
   "cell_type": "markdown",
   "id": "4a85edfc-24cc-424d-8e36-f909b3049edd",
   "metadata": {},
   "source": [
    "Setup geometry and extract polarizability:"
   ]
  },
  {
   "cell_type": "code",
   "execution_count": 12,
   "id": "c51dd56b-3309-4177-9eee-db733b2cf6ae",
   "metadata": {},
   "outputs": [
    {
     "name": "stdout",
     "output_type": "stream",
     "text": [
      "Notebook initialized with ipy backend.\n"
     ]
    },
    {
     "data": {
      "application/vnd.jupyter.widget-view+json": {
       "model_id": "7b50b208756f46d492b5d55f51cdc796",
       "version_major": 2,
       "version_minor": 0
      },
      "text/plain": [
       "Image(value=b'\\x89PNG\\r\\n\\x1a\\n\\x00\\x00\\x00\\rIHDR\\x00\\x00\\x01\\x90\\x00\\x00\\x01^\\x08\\x02\\x00\\x00\\x00$?\\xde_\\x00\\…"
      ]
     },
     "metadata": {},
     "output_type": "display_data"
    }
   ],
   "source": [
    "# Waveguide design\n",
    "f0=9.8e9\n",
    "lmbda=c/f0\n",
    "n_wg=sqrt(3.55*(1-0.0027j))\n",
    "pitch=0.008\n",
    "N=5\n",
    "L=N*pitch\n",
    "a=14e-3\n",
    "b=0.762e-3\n",
    "WG=geom.Waveguide(a,b,n_wg,L)\n",
    "WG.N_modes=1\n",
    "\n",
    "# Create a half space for far-field calcs\n",
    "HS=geom.HalfSpace()\n",
    "\n",
    "\n",
    "# Data files for polarizability extraction\n",
    "S11MagFile='../HFSS/S11mag_MikeCell_DS_1p1.csv'\n",
    "S11PhaseFile='../HFSS/S11phase_MikeCell_DS_1p1.csv'\n",
    "S21MagFile='../HFSS/S21mag_MikeCell_DS_1p1.csv'\n",
    "S21PhaseFile='../HFSS/S21phase_MikeCell_DS_1p1.csv'\n",
    "HFSS_Files={'S11Mag':S11MagFile,'S11Phase':S11PhaseFile,\n",
    "            'S21Mag':S21MagFile,'S21Phase':S21PhaseFile}\n",
    "\n",
    "\n",
    "# Individual dipole setup for sim\n",
    "r0=xhat*1.6e-3+yhat*0+zhat*L/2\n",
    "dip=emag.Dipole(r0)\n",
    "dip.extract(WG,HFSS_Files)\n",
    "\n",
    "\n",
    "# Dipole array design\n",
    "z_pos=np.arange(pitch/2,(N+1/2)*pitch,pitch)+1.2e-3\n",
    "x_pos=np.ones(np.shape(z_pos))*dip.r0[xhat]\n",
    "y_pos=np.ones(np.shape(z_pos))*dip.r0[yhat]\n",
    "r_pos=math.GridToListOfVectors({xhat:x_pos,yhat:y_pos,zhat:z_pos})\n",
    "dip_array=dip.Array(r_pos)\n",
    "for dipole in dip_array:\n",
    "    WG.add_dipole(dipole)\n",
    "    HS.add_dipole(dipole)\n",
    "    \n",
    "# Now, position it where you want it in space\n",
    "R=math.RotTensor(pi/2,'x',vec_space)\n",
    "WG.Rotate(R)\n",
    "WG.Translate(xhat*-a/2)\n",
    "\n",
    "# Plot geometry\n",
    "mlab.init_notebook()\n",
    "mlab.clf(1)\n",
    "WG.MayaviPlot(1,plot_fields=False,field_clip=30)\n",
    "PlotTools.MayaviAxes(10,-L/3,L/3,0,L,-L/10,L/2)\n",
    "mlab.figure(figure=1,bgcolor=(1,1,1), fgcolor=(0.,0.,0.))"
   ]
  },
  {
   "cell_type": "markdown",
   "id": "b659df97-7a18-4a29-af98-d8f971008e73",
   "metadata": {},
   "source": [
    "The last thing to do in the setup is to tune the dipoles to the desired frequency so that their polarizability tensors will be assigned.  Then we give a the waveguide a source and solve.  We will just choose to tune all the dipoles to the same frequency.\n",
    "\n",
    "In this example, we will set the solver to \"coupled\", which means that the dipoles are coupled.  The \"coupled\" solver will include interactions through every geometry to which the dipoles are assigned.  So since these dipoles have been assigned to both the waveguide and the half-space, the solver will include both the interactions through the waveguide and through the half-space (i.e. over the top of the the waveguide through the half-space interaction)."
   ]
  },
  {
   "cell_type": "code",
   "execution_count": 11,
   "id": "067e873b-4d37-41bb-ba2c-8f82c43a1ce1",
   "metadata": {},
   "outputs": [
    {
     "name": "stdout",
     "output_type": "stream",
     "text": [
      "Notebook initialized with ipy backend.\n"
     ]
    },
    {
     "data": {
      "application/vnd.jupyter.widget-view+json": {
       "model_id": "57b97b29c2f0473f899f9c4d66e8b5a6",
       "version_major": 2,
       "version_minor": 0
      },
      "text/plain": [
       "Image(value=b'\\x89PNG\\r\\n\\x1a\\n\\x00\\x00\\x00\\rIHDR\\x00\\x00\\x01\\x90\\x00\\x00\\x01^\\x08\\x02\\x00\\x00\\x00$?\\xde_\\x00\\…"
      ]
     },
     "metadata": {},
     "output_type": "display_data"
    }
   ],
   "source": [
    "for dipole in WG.DipoleList: dipole.tune(f0)\n",
    "WG.Source(f0)\n",
    "WG.Compute(f0,compute_type='coupled')\n",
    "HS.ComputeFarField(f0)\n",
    "\n",
    "# Plot geometry\n",
    "mlab.figure(figure=3,bgcolor=(1,1,1), fgcolor=(0.,0.,0.))\n",
    "mlab.clf()\n",
    "WG.MayaviPlot(1,plot_fields=True,field_clip=30)\n",
    "PlotTools.MayaviAxes(10,-L/3,L/3,0,L,-L/10,L/2)\n",
    "\n",
    "# Far field plotting\n",
    "directivity=HS.FarField.directivity\n",
    "k=HS.FarField.k\n",
    "(theta_grid,phi_grid,th_axis,ph_axis,dth,dph)=math.HalfSphereGrid(360,90)\n",
    "Dir_dB=10*np.log10(np.real(directivity(k(theta_grid,phi_grid)))+1e-16) \n",
    "Dir_dB[Dir_dB<0]=0\n",
    "rhat=math.SphericalBasis('r')\n",
    "X=Dir_dB*(rhat.dot(xhat))(theta_grid,phi_grid)\n",
    "Y=Dir_dB*(rhat.dot(yhat))(theta_grid,phi_grid)\n",
    "Z=Dir_dB*(rhat.dot(zhat))(theta_grid,phi_grid)\n",
    "\n",
    "mlab.init_notebook()\n",
    "mlab.clf(2)\n",
    "mlab.mesh(X,Y,Z)\n",
    "coordmax=np.max([X,Y,Z])\n",
    "PlotTools.MayaviAxes(10,-coordmax,coordmax,-coordmax,coordmax,0,coordmax)\n",
    "mlab.figure(figure=2,bgcolor=(1,1,1), fgcolor=(0.,0.,0.))"
   ]
  },
  {
   "cell_type": "code",
   "execution_count": null,
   "id": "8f487181-9edd-430f-86d6-d396382874b5",
   "metadata": {},
   "outputs": [],
   "source": []
  }
 ],
 "metadata": {
  "kernelspec": {
   "display_name": "Python 3 (ipykernel)",
   "language": "python",
   "name": "python3"
  },
  "language_info": {
   "codemirror_mode": {
    "name": "ipython",
    "version": 3
   },
   "file_extension": ".py",
   "mimetype": "text/x-python",
   "name": "python",
   "nbconvert_exporter": "python",
   "pygments_lexer": "ipython3",
   "version": "3.8.12"
  }
 },
 "nbformat": 4,
 "nbformat_minor": 5
}
