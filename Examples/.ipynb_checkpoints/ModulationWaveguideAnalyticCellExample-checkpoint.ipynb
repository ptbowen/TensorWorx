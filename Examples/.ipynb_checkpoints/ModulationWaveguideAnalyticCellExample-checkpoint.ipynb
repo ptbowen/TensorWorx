{
 "cells": [
  {
   "cell_type": "markdown",
   "id": "6b10a49d-c9ce-4f35-9e63-e0d2d5df82d7",
   "metadata": {
    "tags": []
   },
   "source": [
    "# Preliminaries"
   ]
  },
  {
   "cell_type": "code",
   "execution_count": 7,
   "id": "6064a62f-0402-4942-bf8c-c6ef14a4002c",
   "metadata": {},
   "outputs": [],
   "source": [
    "#!/usr/bin/env python3\n",
    "# -*- coding: utf-8 -*-\n",
    "\"\"\"\n",
    "Created on Wed Oct  6 17:15:09 2021\n",
    "\n",
    "@author: ptbowen\n",
    "\"\"\"\n",
    "import sys\n",
    "sys.path.append('..')\n",
    "import worx.ElectromagneticObjects as emag\n",
    "import worx.MathObjects as math\n",
    "import worx.Geometries as geom\n",
    "import worx.PlotTools as PlotTools\n",
    "from worx.Extraction import WaveguideExtraction\n",
    "\n",
    "import numpy as np\n",
    "import matplotlib.pyplot as plt\n",
    "from numpy.lib.scimath import sqrt\n",
    "from matplotlib import cm\n",
    "from mayavi import mlab\n",
    "\n",
    "# constants\n",
    "pi=np.pi\n",
    "Z0=376\n",
    "c=2.998e8\n",
    "\n",
    "# We are going to operate in a 3D euclidean global geometry.\n",
    "(xhat,yhat,zhat)=math.CreateEuclideanBasis()\n",
    "vec_space=[xhat,yhat,zhat]\n",
    "\n",
    "# some preliminary variables\n",
    "f0=np.array(9.85e9)\n",
    "lmbda=c/f0\n",
    "k0=2*pi/lmbda"
   ]
  },
  {
   "cell_type": "markdown",
   "id": "67e12fe9-0744-4267-a83a-210473468ec9",
   "metadata": {},
   "source": [
    "# Modulated Waveguide Example"
   ]
  },
  {
   "cell_type": "markdown",
   "id": "246a7188-4ed2-411f-ab59-8972fa32c030",
   "metadata": {},
   "source": [
    "With the preliminaries out of the way, this tutorial walks through creating a single linear waveguide with an array of elements, modulating it, and finding the radiated power in an unperturbed feed wave approximation.  In particular, we will be using an analytic toy model of a Lorentzian resonator for the unit cells."
   ]
  },
  {
   "cell_type": "code",
   "execution_count": 29,
   "id": "ed9eb3bb-dd2b-4306-8581-008627f83597",
   "metadata": {},
   "outputs": [],
   "source": [
    "# Waveguide and half-space design\n",
    "N=21\n",
    "pitch=lmbda/5.5\n",
    "L=(N+1)*pitch\n",
    "a=14e-3\n",
    "b=0.762e-3\n",
    "n_wg=sqrt(3.55*(1-0.0027j))\n",
    "WG=geom.Waveguide(a,b,n_wg,L)\n",
    "WG.N_modes=4\n",
    "HS=geom.HalfSpace()"
   ]
  },
  {
   "cell_type": "markdown",
   "id": "5d542fee-422f-4b60-861b-8dfaedd46c08",
   "metadata": {},
   "source": [
    "Tuning ranges for polarizabilities will always be presented as functions, whether they are interpolants or analytic.  Let's start with an analytic expression for a tunable Lorentzian dipole."
   ]
  },
  {
   "cell_type": "code",
   "execution_count": 30,
   "id": "1da65d50-e79d-4769-891c-13ef619ab94a",
   "metadata": {},
   "outputs": [],
   "source": [
    "# Individual dipole design\n",
    "dip1=emag.Dipole(xhat*0)\n",
    "alpha0=(18e-3)**3           # polarizability amplitude\n",
    "Q=40                        # Quality factor\n",
    "m=np.linspace(0,1,100)      # Lorentzian modulation parameter \n",
    "alpha_m=(lambda f,m: (alpha0*Q)*np.sin(m*pi)*np.exp(-1j*m*pi))\n",
    "alpha_e=(lambda f,m: 0)\n",
    "dip1.TuningFunction_m=alpha_m\n",
    "dip1.TuningFunction_e=alpha_e\n",
    "dip1.nu_m=xhat\n",
    "dip1.nu_e=yhat\n",
    "dip1.Parameterized=1"
   ]
  },
  {
   "cell_type": "code",
   "execution_count": 31,
   "id": "bd1f49cb-ae52-4445-a109-52c7e42e9021",
   "metadata": {},
   "outputs": [],
   "source": [
    "# Dipole array design\n",
    "z_pos=np.arange(pitch/2,(N+1/2)*pitch,pitch)\n",
    "x_pos=np.ones(np.shape(z_pos))*1.6e-3\n",
    "y_pos=np.zeros(np.shape(z_pos))\n",
    "r_pos=math.GridToListOfVectors({xhat:x_pos,yhat:y_pos,zhat:z_pos})\n",
    "dip_array=dip1.Array(r_pos)\n",
    "for dipole in dip_array:\n",
    "    WG.add_dipole(dipole)\n",
    "    HS.add_dipole(dipole)"
   ]
  },
  {
   "cell_type": "code",
   "execution_count": 32,
   "id": "20280e08-a797-4778-abf8-f5006e299d9a",
   "metadata": {},
   "outputs": [
    {
     "name": "stdout",
     "output_type": "stream",
     "text": [
      "Notebook initialized with ipy backend.\n"
     ]
    },
    {
     "data": {
      "application/vnd.jupyter.widget-view+json": {
       "model_id": "6acb2e1f724e4eb5ba1f1794236e3fc2",
       "version_major": 2,
       "version_minor": 0
      },
      "text/plain": [
       "Image(value=b'\\x89PNG\\r\\n\\x1a\\n\\x00\\x00\\x00\\rIHDR\\x00\\x00\\x01\\x90\\x00\\x00\\x01^\\x08\\x02\\x00\\x00\\x00$?\\xde_\\x00\\…"
      ]
     },
     "metadata": {},
     "output_type": "display_data"
    }
   ],
   "source": [
    "# Now, position it where you want it in space\n",
    "R=math.RotTensor(pi/2,'x',vec_space)\n",
    "WG.Rotate(R)\n",
    "\n",
    "# Plot geometry to check that it makes sense\n",
    "mlab.init_notebook()\n",
    "mlab.clf()\n",
    "WG.MayaviPlot(1,plot_fields=False,phase=(0/6)*pi)\n",
    "PlotTools.MayaviAxes(10,-L/3,L/3,0,L,-L/10,L/2)\n",
    "mlab.figure(figure=1,bgcolor=(1,1,1), fgcolor=(0.,0.,0.))"
   ]
  },
  {
   "cell_type": "markdown",
   "id": "e55b3832-6896-45e7-b7c6-f0f82b0b3372",
   "metadata": {},
   "source": [
    "This time, we will play with another kind of source in the waveguide: a point source.  A point source is defined by referencing a particular dipole object which represents the source."
   ]
  },
  {
   "cell_type": "code",
   "execution_count": 33,
   "id": "7c0790d2-bff5-419e-943d-5785640c4d16",
   "metadata": {},
   "outputs": [
    {
     "name": "stdout",
     "output_type": "stream",
     "text": [
      "Notebook initialized with ipy backend.\n"
     ]
    },
    {
     "data": {
      "application/vnd.jupyter.widget-view+json": {
       "model_id": "6acb2e1f724e4eb5ba1f1794236e3fc2",
       "version_major": 2,
       "version_minor": 0
      },
      "text/plain": [
       "Image(value=b'\\x89PNG\\r\\n\\x1a\\n\\x00\\x00\\x00\\rIHDR\\x00\\x00\\x01\\x90\\x00\\x00\\x01^\\x08\\x02\\x00\\x00\\x00$?\\xde_\\x00\\…"
      ]
     },
     "metadata": {},
     "output_type": "display_data"
    }
   ],
   "source": [
    "# Define a source\n",
    "dip=emag.Dipole(dip_array[10].r0)\n",
    "dip.M=xhat*2\n",
    "WG.Source(f0,source_type='dipole',dip=dip)\n",
    "\n",
    "# Desired beam k-vector\n",
    "theta_b=0\n",
    "phi_b=0\n",
    "rhat=math.SphericalBasis('r')\n",
    "k_b=rhat(theta_b,phi_b)*k0\n",
    "\n",
    "# Desired beam polarization vector\n",
    "E_b=(math.SphericalBasis('phi'))(theta_b,phi_b)\n",
    "#%%\n",
    "# Modulate\n",
    "WG.Modulate(k_b,E_b,False)\n",
    "\n",
    "# Compute waveguide to excite dipoles with source\n",
    "WG.Compute(f0)\n",
    "\n",
    "# Plot geometry and near fields\n",
    "mlab.init_notebook()\n",
    "mlab.clf()\n",
    "WG.MayaviPlot(1,plot_fields=True,phase=(0/6)*pi)\n",
    "PlotTools.MayaviAxes(10,-L/3,L/3,0,L,-L/10,L/2)\n",
    "mlab.figure(figure=1,bgcolor=(1,1,1), fgcolor=(0.,0.,0.))"
   ]
  },
  {
   "cell_type": "code",
   "execution_count": 35,
   "id": "42f54223-b0b3-48a3-8be7-b556ca4b1e67",
   "metadata": {},
   "outputs": [
    {
     "name": "stdout",
     "output_type": "stream",
     "text": [
      "Notebook initialized with ipy backend.\n"
     ]
    },
    {
     "data": {
      "application/vnd.jupyter.widget-view+json": {
       "model_id": "4ec570af00c84beb95d5a9eed9316d98",
       "version_major": 2,
       "version_minor": 0
      },
      "text/plain": [
       "Image(value=b'\\x89PNG\\r\\n\\x1a\\n\\x00\\x00\\x00\\rIHDR\\x00\\x00\\x01\\x90\\x00\\x00\\x01^\\x08\\x02\\x00\\x00\\x00$?\\xde_\\x00\\…"
      ]
     },
     "metadata": {},
     "output_type": "display_data"
    }
   ],
   "source": [
    "# Compute half-space to find far-field\n",
    "HS.ComputeFarField(f0)\n",
    "\n",
    "# Far field plotting\n",
    "directivity=HS.FarField.directivity\n",
    "k=HS.FarField.k\n",
    "(theta_grid,phi_grid,th_axis,ph_axis,dth,dph)=math.HalfSphereGrid(360,90)\n",
    "Dir_dB=10*np.log10(np.real(directivity(k(theta_grid,phi_grid)))+1e-16) \n",
    "Dir_dB[Dir_dB<0]=0\n",
    "rhat=math.SphericalBasis('r')\n",
    "X=Dir_dB*(rhat.dot(xhat))(theta_grid,phi_grid)\n",
    "Y=Dir_dB*(rhat.dot(yhat))(theta_grid,phi_grid)\n",
    "Z=Dir_dB*(rhat.dot(zhat))(theta_grid,phi_grid)\n",
    "\n",
    "mlab.init_notebook()\n",
    "mlab.clf()\n",
    "mlab.mesh(X,Y,Z)\n",
    "coordmax=np.max([X,Y,Z])\n",
    "PlotTools.MayaviAxes(10,-coordmax,coordmax,-coordmax,coordmax,0,coordmax)\n",
    "mlab.figure(figure=2,bgcolor=(1,1,1), fgcolor=(0.,0.,0.))"
   ]
  },
  {
   "cell_type": "markdown",
   "id": "6f9dfc34-8e32-41a0-a6b1-4dce374d1cfb",
   "metadata": {},
   "source": [
    "You should see a lovely fan-beam farfield pattern."
   ]
  },
  {
   "cell_type": "code",
   "execution_count": null,
   "id": "b959dc7b-e217-4b64-a8f9-b523b8399285",
   "metadata": {},
   "outputs": [],
   "source": []
  }
 ],
 "metadata": {
  "kernelspec": {
   "display_name": "Python 3 (ipykernel)",
   "language": "python",
   "name": "python3"
  },
  "language_info": {
   "codemirror_mode": {
    "name": "ipython",
    "version": 3
   },
   "file_extension": ".py",
   "mimetype": "text/x-python",
   "name": "python",
   "nbconvert_exporter": "python",
   "pygments_lexer": "ipython3",
   "version": "3.8.12"
  }
 },
 "nbformat": 4,
 "nbformat_minor": 5
}
