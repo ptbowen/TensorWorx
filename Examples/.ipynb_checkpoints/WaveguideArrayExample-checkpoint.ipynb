{
 "cells": [
  {
   "cell_type": "markdown",
   "id": "5181cefa-2991-4f2b-a2c3-5b3f0b3b3560",
   "metadata": {},
   "source": [
    "# Preliminaries"
   ]
  },
  {
   "cell_type": "code",
   "execution_count": 5,
   "id": "db542935-4290-48c3-b3b9-097f91beea38",
   "metadata": {},
   "outputs": [],
   "source": [
    "\n",
    "#!/usr/bin/env python3\n",
    "# -*- coding: utf-8 -*-\n",
    "\"\"\"\n",
    "Created on Fri Oct  8 22:29:59 2021\n",
    "\n",
    "@author: ptbowen\n",
    "\"\"\"\n",
    "import sys\n",
    "sys.path.append('..')\n",
    "import worx.ElectromagneticObjects as emag\n",
    "import worx.MathObjects as math\n",
    "import worx.Geometries as geom\n",
    "import worx.PlotTools as PlotTools\n",
    "\n",
    "import numpy as np\n",
    "from numpy.lib.scimath import sqrt\n",
    "from mayavi import mlab\n",
    "import copy\n",
    "\n",
    "pi=np.pi\n",
    "c=2.998e8\n",
    "(xhat,yhat,zhat)=math.CreateEuclideanBasis()\n",
    "vec_space=[xhat,yhat,zhat]"
   ]
  },
  {
   "cell_type": "markdown",
   "id": "7a9ec0c6-3c12-45b3-b98f-26d68bbff916",
   "metadata": {},
   "source": [
    "# Single modulated waveguide"
   ]
  },
  {
   "cell_type": "markdown",
   "id": "887392ce-e4e7-4116-b296-c61ee6a7a95e",
   "metadata": {},
   "source": [
    "First, we will implement a single modulated waveguide before creating the array, and plot the results.  All of this content you will have hopefully seen before now."
   ]
  },
  {
   "cell_type": "code",
   "execution_count": 6,
   "id": "8fcd2880-c45e-48de-8ef7-8a3df907743a",
   "metadata": {},
   "outputs": [
    {
     "name": "stdout",
     "output_type": "stream",
     "text": [
      "Notebook initialized with ipy backend.\n"
     ]
    },
    {
     "data": {
      "application/vnd.jupyter.widget-view+json": {
       "model_id": "6c053ffe6a63432fa7c3959f79211010",
       "version_major": 2,
       "version_minor": 0
      },
      "text/plain": [
       "Image(value=b'\\x89PNG\\r\\n\\x1a\\n\\x00\\x00\\x00\\rIHDR\\x00\\x00\\x01\\x90\\x00\\x00\\x01^\\x08\\x02\\x00\\x00\\x00$?\\xde_\\x00\\…"
      ]
     },
     "metadata": {},
     "output_type": "display_data"
    }
   ],
   "source": [
    "# Operating frequency and beam definition\n",
    "f0=9.8e9\n",
    "lmbda=c/f0\n",
    "k=2*pi/lmbda\n",
    "theta_b=90*pi/180\n",
    "phi_b=0.1*pi/180\n",
    "k_b=math.SphericalBasis('r')(theta_b,phi_b)*k\n",
    "E_b=math.SphericalBasis('theta')(theta_b,phi_b)\n",
    "\n",
    "# Waveguide design\n",
    "n_wg=sqrt(3.55*(1-0.0027j))\n",
    "pitch=0.008\n",
    "N=5\n",
    "L=N*pitch\n",
    "a=14e-3\n",
    "b=0.762e-3\n",
    "WG=geom.Waveguide(a,b,n_wg,L)\n",
    "WG.N_modes=1\n",
    "\n",
    "# Create a half space for far-field calcs\n",
    "HS=geom.HalfSpace()\n",
    "\n",
    "# Data files for polarizability extraction\n",
    "S11MagFile='../HFSS/S11mag_MikeCell_CapSweep.csv'\n",
    "S11PhaseFile='../HFSS/S11phase_MikeCell_CapSweep.csv'\n",
    "S21MagFile='../HFSS/S21mag_MikeCell_CapSweep.csv'\n",
    "S21PhaseFile='../HFSS/S21phase_MikeCell_CapSweep.csv'\n",
    "HFSS_Files={'S11Mag':S11MagFile,'S11Phase':S11PhaseFile,\n",
    "            'S21Mag':S21MagFile,'S21Phase':S21PhaseFile}\n",
    "\n",
    "# Create initial dipole.  This time it's parameterized.\n",
    "r0=xhat*1.6e-3\n",
    "dip=emag.Dipole(r0)\n",
    "dip.extract(WG,HFSS_Files,parameterized=1)\n",
    "f=np.linspace(8e9,12e9,200)\n",
    "mod_range=np.linspace(0,1,5)\n",
    "# dip.analyze(f=f,mod=mod_range)\n",
    "\n",
    "# Dipole array design\n",
    "z_pos=np.arange(pitch/2,(N+1/2)*pitch,pitch)+1.2e-3\n",
    "x_pos=np.ones(np.shape(z_pos))*dip.r0[xhat]\n",
    "y_pos=np.ones(np.shape(z_pos))*dip.r0[yhat]\n",
    "r_pos=math.GridToListOfVectors({xhat:x_pos,yhat:y_pos,zhat:z_pos})\n",
    "dip_array=dip.Array(r_pos)\n",
    "for dipole in dip_array:\n",
    "    WG.add_dipole(dipole)\n",
    "    HS.add_dipole(dipole)\n",
    "    \n",
    "# Now, position it where you want it in space\n",
    "R1=math.RotTensor(pi/2,'x',vec_space)\n",
    "R2=math.RotTensor(-pi/2,'z',vec_space)\n",
    "WG.Rotate(R1)\n",
    "WG.Rotate(R2)\n",
    "WG.Translate(yhat*(a/2))\n",
    "\n",
    "# Define source and compute unperturbed feed wave\n",
    "WG.Source(f0)\n",
    "WG.Modulate(k_b,E_b)\n",
    "# for dipole in WG.DipoleList: dipole.tune(f0,0.5)\n",
    "WG.Compute(f0,compute_type='coupled')\n",
    "HS.ComputeFarField(f0)\n",
    "\n",
    "# Plot\n",
    "mlab.init_notebook()\n",
    "mlab.clf()\n",
    "WG.MayaviPlot(1,plot_fields=True,field_clip=30)\n",
    "PlotTools.MayaviAxes(10,-L/2,L/2,0,1.5*L,-L/10,L/2)\n",
    "mlab.figure(figure=1,bgcolor=(1,1,1), fgcolor=(0.,0.,0.))"
   ]
  },
  {
   "cell_type": "code",
   "execution_count": null,
   "id": "c51c038d-efaa-4ac2-955c-18aca18e0fa8",
   "metadata": {},
   "outputs": [
    {
     "name": "stdout",
     "output_type": "stream",
     "text": [
      "Notebook initialized with ipy backend.\n"
     ]
    },
    {
     "data": {
      "application/vnd.jupyter.widget-view+json": {
       "model_id": "",
       "version_major": 2,
       "version_minor": 0
      },
      "text/plain": [
       "Image(value=b'\\x89PNG\\r\\n\\x1a\\n\\x00\\x00\\x00\\rIHDR\\x00\\x00\\x01\\x90\\x00\\x00\\x01^\\x08\\x02\\x00\\x00\\x00$?\\xde_\\x00\\…"
      ]
     },
     "metadata": {},
     "output_type": "display_data"
    }
   ],
   "source": [
    "# Find total far-field and plot\n",
    "directivity=HS.FarField.directivity\n",
    "k_ff=HS.FarField.k\n",
    "(theta_grid,phi_grid,th_axis,ph_axis,dth,dph)=math.HalfSphereGrid(HS.FarField.Nth,HS.FarField.Nph)\n",
    "Dir_dB=10*np.log10(np.real(directivity(k_ff(theta_grid,phi_grid)))+1e-16) \n",
    "Dir_dB[Dir_dB<0]=0\n",
    "rhat=math.SphericalBasis('r')\n",
    "X=Dir_dB*(rhat.dot(xhat))(theta_grid,phi_grid)\n",
    "Y=Dir_dB*(rhat.dot(yhat))(theta_grid,phi_grid)\n",
    "Z=Dir_dB*(rhat.dot(zhat))(theta_grid,phi_grid)\n",
    "\n",
    "mlab.init_notebook()\n",
    "mlab.clf()\n",
    "mlab.mesh(X,Y,Z)\n",
    "coordmax=np.max([X,Y,Z])\n",
    "PlotTools.MayaviAxes(10,-coordmax,coordmax,-coordmax,coordmax,0,coordmax)\n",
    "mlab.figure(figure=2,bgcolor=(1,1,1), fgcolor=(0.,0.,0.))"
   ]
  },
  {
   "cell_type": "markdown",
   "id": "77b3a84d-564c-451d-9bd0-f91dfd8a981e",
   "metadata": {},
   "source": [
    "# Multi-waveguide array"
   ]
  },
  {
   "cell_type": "markdown",
   "id": "4e8a1472-d3f8-4a81-b162-51ba1dc0e5fb",
   "metadata": {},
   "source": [
    "Now we will create an array of waveguides, modulate them, and solve for both near and far fields."
   ]
  },
  {
   "cell_type": "code",
   "execution_count": 8,
   "id": "c1a6a758-2b4b-4c33-afb4-abe4483241d9",
   "metadata": {},
   "outputs": [
    {
     "name": "stdout",
     "output_type": "stream",
     "text": [
      "Notebook initialized with ipy backend.\n"
     ]
    },
    {
     "data": {
      "application/vnd.jupyter.widget-view+json": {
       "model_id": "691a9dbb5f82486c8f2fbeabb1957fb2",
       "version_major": 2,
       "version_minor": 0
      },
      "text/plain": [
       "Image(value=b'\\x89PNG\\r\\n\\x1a\\n\\x00\\x00\\x00\\rIHDR\\x00\\x00\\x01\\x90\\x00\\x00\\x01^\\x08\\x02\\x00\\x00\\x00$?\\xde_\\x00\\…"
      ]
     },
     "metadata": {},
     "output_type": "display_data"
    }
   ],
   "source": [
    "# First, make a fresh half space so the old waveguide's dipoles aren't included.\n",
    "HS=geom.HalfSpace()\n",
    "\n",
    "# Copy waveguide to make array\n",
    "WG_spacing=16e-3\n",
    "N_wg=8\n",
    "WG_Array=[0 for i in range(0,N_wg)]\n",
    "for i in range(0,N_wg):\n",
    "    angle=i*2*pi/N_wg\n",
    "    translate_vec=(xhat*np.cos(angle)+yhat*np.sin(angle))*WG_spacing\n",
    "    R=math.RotTensor(i*2*pi/N_wg,'z',vec_space)\n",
    "    WG_Array[i]=copy.deepcopy(WG)\n",
    "    WG_Array[i].Rotate(R)\n",
    "    WG_Array[i].Translate(translate_vec)\n",
    "    # You have to make sure all the dipoles are also added to the half space for the far field calculation.\n",
    "    for dipole in WG_Array[i].DipoleList:\n",
    "        dipole.tune(f0,0.3)\n",
    "        HS.add_dipole(dipole)\n",
    "\n",
    "# Plot geometry\n",
    "mlab.figure(figure=1,bgcolor=(1,1,1), fgcolor=(0.,0.,0.))\n",
    "mlab.clf()\n",
    "for wg in WG_Array:\n",
    "    wg.MayaviPlot(1,plot_fields=False,field_clip=30)\n",
    "PlotTools.MayaviAxes(10,-1.5*L,1.5*L,-1.5*L,1.5*L,-L/10,L/2)\n",
    "\n",
    "\n",
    "#%% Modulate and recompute\n",
    "for wg in WG_Array:\n",
    "    wg.Source(f0)\n",
    "    # for dipole in wg.DipoleList: dipole.tune(f0,0.8)\n",
    "    wg.Modulate(k_b,E_b)\n",
    "    wg.Compute(f0,compute_type='coupled')\n",
    "\n",
    "\n",
    "# Plot near fields\n",
    "mlab.init_notebook()\n",
    "mlab.clf()\n",
    "for wg in WG_Array:\n",
    "    wg.MayaviPlot(1,plot_fields=True,field_clip=30)\n",
    "PlotTools.MayaviAxes(10,-1.5*L,1.5*L,-1.5*L,1.5*L,-L/10,L/2)\n",
    "mlab.figure(figure=3,bgcolor=(1,1,1), fgcolor=(0.,0.,0.))"
   ]
  },
  {
   "cell_type": "code",
   "execution_count": 9,
   "id": "b4f4fe92-9bc8-42d1-b0f1-ac15a256234b",
   "metadata": {},
   "outputs": [
    {
     "name": "stdout",
     "output_type": "stream",
     "text": [
      "Notebook initialized with ipy backend.\n"
     ]
    },
    {
     "data": {
      "application/vnd.jupyter.widget-view+json": {
       "model_id": "46dd0cc0f04a49248cd38987990b0bed",
       "version_major": 2,
       "version_minor": 0
      },
      "text/plain": [
       "Image(value=b'\\x89PNG\\r\\n\\x1a\\n\\x00\\x00\\x00\\rIHDR\\x00\\x00\\x01\\x90\\x00\\x00\\x01^\\x08\\x02\\x00\\x00\\x00$?\\xde_\\x00\\…"
      ]
     },
     "metadata": {},
     "output_type": "display_data"
    }
   ],
   "source": [
    "#%% Find total far-field and plot\n",
    "HS.ComputeFarField(f0)\n",
    "\n",
    "# Far field plotting\n",
    "directivity=HS.FarField.directivity\n",
    "k_ff=HS.FarField.k\n",
    "(theta_grid,phi_grid,th_axis,ph_axis,dth,dph)=math.HalfSphereGrid(HS.FarField.Nth,HS.FarField.Nph)\n",
    "Dir_dB=10*np.log10(np.real(directivity(k_ff(theta_grid,phi_grid)))+1e-16) \n",
    "Dir_dB[Dir_dB<0]=0\n",
    "rhat=math.SphericalBasis('r')\n",
    "X=Dir_dB*(rhat.dot(xhat))(theta_grid,phi_grid)\n",
    "Y=Dir_dB*(rhat.dot(yhat))(theta_grid,phi_grid)\n",
    "Z=Dir_dB*(rhat.dot(zhat))(theta_grid,phi_grid)\n",
    "\n",
    "mlab.init_notebook()\n",
    "mlab.clf()\n",
    "mlab.mesh(X,Y,Z)\n",
    "coordmax=np.max([X,Y,Z])\n",
    "PlotTools.MayaviAxes(10,-coordmax,coordmax,-coordmax,coordmax,0,coordmax)\n",
    "mlab.figure(figure=4,bgcolor=(1,1,1), fgcolor=(0.,0.,0.))"
   ]
  },
  {
   "cell_type": "markdown",
   "id": "590651ae-9ad2-4ff6-a0ba-7e6f5f458627",
   "metadata": {},
   "source": [
    "The farfield object in the half-space has more than just fields... it also includes an analysis of the far field, including a report on the beams.  This can be accessed by running,"
   ]
  },
  {
   "cell_type": "code",
   "execution_count": 10,
   "id": "c9a262e4-57df-4c11-929c-f6af5be32f52",
   "metadata": {},
   "outputs": [
    {
     "name": "stdout",
     "output_type": "stream",
     "text": [
      "    Directivtiy [dB]  Theta [deg]  Phi [deg]  Side Lobe Level [dB]\n",
      "0          12.615382    90.000000   0.716216              0.000000\n",
      "1           9.734571   102.264774  36.045683              2.880811\n",
      "2           9.721113    51.146626  35.299199              2.894270\n",
      "3           8.351534  -129.644175  34.622428              4.263848\n",
      "4           8.254659   -76.551385  36.243040              4.360723\n",
      "5           1.588918    22.067900  86.489168             11.026465\n",
      "6           1.502100    19.798876  85.136676             11.113282\n",
      "7           1.473648   132.466441  88.759413             11.141734\n",
      "8           1.361545   133.479230  87.623961             11.253837\n",
      "9           1.337106    23.670538  85.083969             11.278276\n",
      "10          1.195079   134.492971  87.225095             11.420303\n",
      "11          1.154143   130.914383  82.965066             11.461239\n",
      "12          1.121970   129.897835  83.661798             11.493412\n",
      "13          1.096774    17.525568  85.031816             11.518608\n",
      "14          1.031712   128.884496  84.632624             11.583670\n",
      "15          0.974716   135.507029  87.225095             11.640666\n",
      "16          0.935147    24.623565  81.901932             11.680236\n",
      "17          0.881442   127.874984  86.074155             11.733940\n",
      "18          0.700794   136.520770  87.623961             11.914588\n",
      "19          0.668918   126.869898  89.999999             11.946464\n",
      "20          0.576202  -171.869898  45.000000             12.039180\n",
      "21          0.373620   137.533559  88.759413             12.241762\n",
      "22          0.346117    15.255119  86.074155             12.269265\n",
      "23         -0.222830   125.286749  84.490297             12.838212\n",
      "24         -0.545695   139.085617  82.965066             13.161077\n",
      "25         -0.617337   124.286877  86.876622             13.232719\n",
      "26         -0.993132   140.102165  83.661798             13.608514\n",
      "27         -1.339936    12.295266  86.275908             13.955319\n",
      "28         -1.489798   141.115504  84.632624             14.105180\n",
      "29         -1.858372   -46.520770  87.623961             14.473754\n",
      "30         -1.868537   -45.507029  87.225095             14.483920\n",
      "31         -1.878070   122.691984  84.351512             14.493452\n",
      "32         -1.959993   -47.533559  88.759413             14.575375\n",
      "33         -1.989331   -44.492971  87.225095             14.604713\n",
      "34         -2.033186   142.125016  86.074155             14.648568\n",
      "35         -2.503815   121.701430  87.518244             15.119197\n",
      "36         -2.619351   143.130102  89.999999             15.234733\n",
      "37         -4.280086   120.101305  85.522795             16.895468\n",
      "38         -6.554820   118.495639  84.632624             19.170202\n",
      "39        -13.857614    74.744881  86.074155             26.472996\n",
      "40        -14.445749    77.704734  86.275908             27.061131\n",
      "41        -15.211993    81.362869  87.225095             27.827375\n"
     ]
    }
   ],
   "source": [
    "print(HS.FarField.Beams)"
   ]
  },
  {
   "cell_type": "code",
   "execution_count": null,
   "id": "d4851821-5170-4490-bb5e-77cd5d5c2344",
   "metadata": {},
   "outputs": [],
   "source": []
  }
 ],
 "metadata": {
  "kernelspec": {
   "display_name": "Python 3 (ipykernel)",
   "language": "python",
   "name": "python3"
  },
  "language_info": {
   "codemirror_mode": {
    "name": "ipython",
    "version": 3
   },
   "file_extension": ".py",
   "mimetype": "text/x-python",
   "name": "python",
   "nbconvert_exporter": "python",
   "pygments_lexer": "ipython3",
   "version": "3.8.12"
  }
 },
 "nbformat": 4,
 "nbformat_minor": 5
}
